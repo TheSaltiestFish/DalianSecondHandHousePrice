{
 "cells": [
  {
   "cell_type": "code",
   "execution_count": null,
   "id": "c1a6782b",
   "metadata": {},
   "outputs": [],
   "source": [
    "import requests,bs4,csv,re"
   ]
  },
  {
   "cell_type": "code",
   "execution_count": null,
   "id": "18f9557f",
   "metadata": {},
   "outputs": [],
   "source": [
    "from bs4 import BeautifulSoup"
   ]
  },
  {
   "cell_type": "code",
   "execution_count": 106,
   "id": "4fb247c6",
   "metadata": {},
   "outputs": [],
   "source": [
    "h_list=[]"
   ]
  },
  {
   "cell_type": "code",
   "execution_count": 108,
   "id": "227eb24a",
   "metadata": {},
   "outputs": [],
   "source": [
    "#甘井子\n",
    "for i in range(10):\n",
    "    response = requests.get(f\"https://dl.ke.com/ershoufang/ganjingzi/pg{i+1}/\")\n",
    "    response.encoding = response.apparent_encoding\n",
    "    text = response.text\n",
    "    soup = BeautifulSoup(text)\n",
    "    for house in soup.find_all(class_=\"info clear\"):\n",
    "        h_info= house.find(class_=\"houseInfo\")\n",
    "        h_price= house.find(class_=\"totalPrice totalPrice2\")\n",
    "        h_unitprice= house.find(class_=\"unitPrice\")\n",
    "        h_neighborhood= house.find(class_=\"positionInfo\")\n",
    "        house = [\"甘井子区\",\n",
    "                        h_info.text.replace(' ', '').replace(\"\\n\", \"\").replace(\"\\r\", \"\"),\n",
    "                        h_price.text.replace(\"\\n\", \"\").replace(\"\\r\", \"\") , \n",
    "                        h_unitprice.text.replace(\"\\n\", \"\").replace(\"\\r\", \"\"),\n",
    "                        h_neighborhood.text.replace(\"\\n\", \"\").replace(\"\\r\", \"\")]\n",
    "        # 插入\n",
    "        h_list.append(house)"
   ]
  },
  {
   "cell_type": "code",
   "execution_count": 109,
   "id": "1e658e46",
   "metadata": {},
   "outputs": [],
   "source": [
    "#沙河口\n",
    "for i in range(10):\n",
    "    response = requests.get(f\"https://dl.ke.com/ershoufang/shahekou/pg{i+1}/\")\n",
    "    response.encoding = response.apparent_encoding\n",
    "    text = response.text\n",
    "    soup = BeautifulSoup(text)\n",
    "    for house in soup.find_all(class_=\"info clear\"):\n",
    "        h_info= house.find(class_=\"houseInfo\")\n",
    "        h_price= house.find(class_=\"totalPrice totalPrice2\")\n",
    "        h_unitprice= house.find(class_=\"unitPrice\")\n",
    "        h_neighborhood= house.find(class_=\"positionInfo\")\n",
    "        house = [\"沙河口区\",\n",
    "                        h_info.text.replace(' ', '').replace(\"\\n\", \"\").replace(\"\\r\", \"\"),\n",
    "                        h_price.text.replace(\"\\n\", \"\").replace(\"\\r\", \"\") , \n",
    "                        h_unitprice.text.replace(\"\\n\", \"\").replace(\"\\r\", \"\"),\n",
    "                        h_neighborhood.text.replace(\"\\n\", \"\").replace(\"\\r\", \"\")]\n",
    "        # 插入\n",
    "        h_list.append(house)"
   ]
  },
  {
   "cell_type": "code",
   "execution_count": 110,
   "id": "06c42c0c",
   "metadata": {},
   "outputs": [],
   "source": [
    "#中山\n",
    "for i in range(10):\n",
    "    response = requests.get(f\"https://dl.ke.com/ershoufang/zhongshan/pg{i+1}/\")\n",
    "    response.encoding = response.apparent_encoding\n",
    "    text = response.text\n",
    "    soup = BeautifulSoup(text)\n",
    "    for house in soup.find_all(class_=\"info clear\"):\n",
    "        h_info= house.find(class_=\"houseInfo\")\n",
    "        h_price= house.find(class_=\"totalPrice totalPrice2\")\n",
    "        h_unitprice= house.find(class_=\"unitPrice\")\n",
    "        h_neighborhood= house.find(class_=\"positionInfo\")\n",
    "        house = [\"中山区\",\n",
    "                        h_info.text.replace(' ', '').replace(\"\\n\", \"\").replace(\"\\r\", \"\"),\n",
    "                        h_price.text.replace(\"\\n\", \"\").replace(\"\\r\", \"\") , \n",
    "                        h_unitprice.text.replace(\"\\n\", \"\").replace(\"\\r\", \"\"),\n",
    "                        h_neighborhood.text.replace(\"\\n\", \"\").replace(\"\\r\", \"\")]\n",
    "        # 插入\n",
    "        h_list.append(house)"
   ]
  },
  {
   "cell_type": "code",
   "execution_count": 111,
   "id": "2e7689a7",
   "metadata": {},
   "outputs": [],
   "source": [
    "#西岗\n",
    "for i in range(10):\n",
    "    response = requests.get(f\"https://dl.ke.com/ershoufang/xigang/pg{i+1}/\")\n",
    "    response.encoding = response.apparent_encoding\n",
    "    text = response.text\n",
    "    soup = BeautifulSoup(text)\n",
    "    for house in soup.find_all(class_=\"info clear\"):\n",
    "        h_info= house.find(class_=\"houseInfo\")\n",
    "        h_price= house.find(class_=\"totalPrice totalPrice2\")\n",
    "        h_unitprice= house.find(class_=\"unitPrice\")\n",
    "        h_neighborhood= house.find(class_=\"positionInfo\")\n",
    "        house = [\"西岗区\",\n",
    "                        h_info.text.replace(' ', '').replace(\"\\n\", \"\").replace(\"\\r\", \"\"),\n",
    "                        h_price.text.replace(\"\\n\", \"\").replace(\"\\r\", \"\") , \n",
    "                        h_unitprice.text.replace(\"\\n\", \"\").replace(\"\\r\", \"\"),\n",
    "                        h_neighborhood.text.replace(\"\\n\", \"\").replace(\"\\r\", \"\")]\n",
    "        # 插入\n",
    "        h_list.append(house)"
   ]
  },
  {
   "cell_type": "code",
   "execution_count": 112,
   "id": "3b41262f",
   "metadata": {},
   "outputs": [],
   "source": [
    "#高新区\n",
    "for i in range(10):\n",
    "    response = requests.get(f\"https://dl.ke.com/ershoufang/gaoxinyuanqu/pg{i+1}/\")\n",
    "    response.encoding = response.apparent_encoding\n",
    "    text = response.text\n",
    "    soup = BeautifulSoup(text)\n",
    "    for house in soup.find_all(class_=\"info clear\"):\n",
    "        h_info= house.find(class_=\"houseInfo\")\n",
    "        h_price= house.find(class_=\"totalPrice totalPrice2\")\n",
    "        h_unitprice= house.find(class_=\"unitPrice\")\n",
    "        h_neighborhood= house.find(class_=\"positionInfo\")\n",
    "        house = [\"高新区\",\n",
    "                        h_info.text.replace(' ', '').replace(\"\\n\", \"\").replace(\"\\r\", \"\"),\n",
    "                        h_price.text.replace(\"\\n\", \"\").replace(\"\\r\", \"\") , \n",
    "                        h_unitprice.text.replace(\"\\n\", \"\").replace(\"\\r\", \"\"),\n",
    "                        h_neighborhood.text.replace(\"\\n\", \"\").replace(\"\\r\", \"\")]\n",
    "        # 插入\n",
    "        h_list.append(house)"
   ]
  },
  {
   "cell_type": "code",
   "execution_count": 113,
   "id": "0f21bc7f",
   "metadata": {},
   "outputs": [],
   "source": [
    "#开发区\n",
    "for i in range(10):\n",
    "    response = requests.get(f\"https://dl.ke.com/ershoufang/kaifaqudl/pg{i+1}/\")\n",
    "    response.encoding = response.apparent_encoding\n",
    "    text = response.text\n",
    "    soup = BeautifulSoup(text)\n",
    "    for house in soup.find_all(class_=\"info clear\"):\n",
    "        h_info= house.find(class_=\"houseInfo\")\n",
    "        h_price= house.find(class_=\"totalPrice totalPrice2\")\n",
    "        h_unitprice= house.find(class_=\"unitPrice\")\n",
    "        h_neighborhood= house.find(class_=\"positionInfo\")\n",
    "        house = [\"开发区\",\n",
    "                        h_info.text.replace(' ', '').replace(\"\\n\", \"\").replace(\"\\r\", \"\"),\n",
    "                        h_price.text.replace(\"\\n\", \"\").replace(\"\\r\", \"\") , \n",
    "                        h_unitprice.text.replace(\"\\n\", \"\").replace(\"\\r\", \"\"),\n",
    "                        h_neighborhood.text.replace(\"\\n\", \"\").replace(\"\\r\", \"\")]\n",
    "        # 插入\n",
    "        h_list.append(house)"
   ]
  },
  {
   "cell_type": "code",
   "execution_count": 114,
   "id": "5231550d",
   "metadata": {},
   "outputs": [],
   "source": [
    "#金州\n",
    "for i in range(10):\n",
    "    response = requests.get(f\"https://dl.ke.com/ershoufang/jinzhou/pg{i+1}/\")\n",
    "    response.encoding = response.apparent_encoding\n",
    "    text = response.text\n",
    "    soup = BeautifulSoup(text)\n",
    "    for house in soup.find_all(class_=\"info clear\"):\n",
    "        h_info= house.find(class_=\"houseInfo\")\n",
    "        h_price= house.find(class_=\"totalPrice totalPrice2\")\n",
    "        h_unitprice= house.find(class_=\"unitPrice\")\n",
    "        h_neighborhood= house.find(class_=\"positionInfo\")\n",
    "        house = [\"金州区\",\n",
    "                        h_info.text.replace(' ', '').replace(\"\\n\", \"\").replace(\"\\r\", \"\"),\n",
    "                        h_price.text.replace(\"\\n\", \"\").replace(\"\\r\", \"\") , \n",
    "                        h_unitprice.text.replace(\"\\n\", \"\").replace(\"\\r\", \"\"),\n",
    "                        h_neighborhood.text.replace(\"\\n\", \"\").replace(\"\\r\", \"\")]\n",
    "        # 插入\n",
    "        h_list.append(house)\n",
    "        "
   ]
  },
  {
   "cell_type": "code",
   "execution_count": 115,
   "id": "15c60938",
   "metadata": {},
   "outputs": [],
   "source": [
    "#旅顺\n",
    "for i in range(10):\n",
    "    response = requests.get(f\"https://dl.ke.com/ershoufang/lvshunkou/pg{i+1}/\")\n",
    "    response.encoding = response.apparent_encoding\n",
    "    text = response.text\n",
    "    soup = BeautifulSoup(text)\n",
    "    for house in soup.find_all(class_=\"info clear\"):\n",
    "        h_info= house.find(class_=\"houseInfo\")\n",
    "        h_price= house.find(class_=\"totalPrice totalPrice2\")\n",
    "        h_unitprice= house.find(class_=\"unitPrice\")\n",
    "        h_neighborhood= house.find(class_=\"positionInfo\")\n",
    "        house = [\"旅顺口\",\n",
    "                        h_info.text.replace(' ', '').replace(\"\\n\", \"\").replace(\"\\r\", \"\"),\n",
    "                        h_price.text.replace(\"\\n\", \"\").replace(\"\\r\", \"\") , \n",
    "                        h_unitprice.text.replace(\"\\n\", \"\").replace(\"\\r\", \"\"),\n",
    "                        h_neighborhood.text.replace(\"\\n\", \"\").replace(\"\\r\", \"\")]\n",
    "        # 插入\n",
    "        h_list.append(house)"
   ]
  },
  {
   "cell_type": "code",
   "execution_count": 116,
   "id": "9cbe56ea",
   "metadata": {},
   "outputs": [],
   "source": [
    "#普兰店\n",
    "for i in range(10):\n",
    "    response = requests.get(f\"https://dl.ke.com/ershoufang/pulandian/pg{i+1}/\")\n",
    "    response.encoding = response.apparent_encoding\n",
    "    text = response.text\n",
    "    soup = BeautifulSoup(text)\n",
    "    for house in soup.find_all(class_=\"info clear\"):\n",
    "        h_info= house.find(class_=\"houseInfo\")\n",
    "        h_price= house.find(class_=\"totalPrice totalPrice2\")\n",
    "        h_unitprice= house.find(class_=\"unitPrice\")\n",
    "        h_neighborhood= house.find(class_=\"positionInfo\")\n",
    "        house = [\"普兰店\",\n",
    "                        h_info.text.replace(' ', '').replace(\"\\n\", \"\").replace(\"\\r\", \"\"),\n",
    "                        h_price.text.replace(\"\\n\", \"\").replace(\"\\r\", \"\") , \n",
    "                        h_unitprice.text.replace(\"\\n\", \"\").replace(\"\\r\", \"\"),\n",
    "                        h_neighborhood.text.replace(\"\\n\", \"\").replace(\"\\r\", \"\")]\n",
    "        # 插入\n",
    "        h_list.append(house)"
   ]
  },
  {
   "cell_type": "code",
   "execution_count": 117,
   "id": "e6deaa8d",
   "metadata": {},
   "outputs": [],
   "source": [
    "#瓦房店\n",
    "for i in range(10):\n",
    "    response = requests.get(f\"https://dl.ke.com/ershoufang/wafangdian/pg{i+1}/\")\n",
    "    response.encoding = response.apparent_encoding\n",
    "    text = response.text\n",
    "    soup = BeautifulSoup(text)\n",
    "    for house in soup.find_all(class_=\"info clear\"):\n",
    "        h_info= house.find(class_=\"houseInfo\")\n",
    "        h_price= house.find(class_=\"totalPrice totalPrice2\")\n",
    "        h_unitprice= house.find(class_=\"unitPrice\")\n",
    "        h_neighborhood= house.find(class_=\"positionInfo\")\n",
    "        house = [\"瓦房店\",\n",
    "                        h_info.text.replace(' ', '').replace(\"\\n\", \"\").replace(\"\\r\", \"\"),\n",
    "                        h_price.text.replace(\"\\n\", \"\").replace(\"\\r\", \"\") , \n",
    "                        h_unitprice.text.replace(\"\\n\", \"\").replace(\"\\r\", \"\"),\n",
    "                        h_neighborhood.text.replace(\"\\n\", \"\").replace(\"\\r\", \"\")]\n",
    "        # 插入\n",
    "        h_list.append(house)"
   ]
  },
  {
   "cell_type": "code",
   "execution_count": null,
   "id": "575cf89a",
   "metadata": {},
   "outputs": [],
   "source": [
    "with open(\"house_price.csv\", \"w\", newline=\"\",encoding=\"utf-8\") as f:\n",
    "    writer = csv.writer(f)\n",
    "    for h in h_list:\n",
    "        writer.writerow(h)"
   ]
  },
  {
   "cell_type": "code",
   "execution_count": null,
   "id": "db918e27",
   "metadata": {},
   "outputs": [],
   "source": []
  }
 ],
 "metadata": {
  "kernelspec": {
   "display_name": "Python 3 (ipykernel)",
   "language": "python",
   "name": "python3"
  },
  "language_info": {
   "codemirror_mode": {
    "name": "ipython",
    "version": 3
   },
   "file_extension": ".py",
   "mimetype": "text/x-python",
   "name": "python",
   "nbconvert_exporter": "python",
   "pygments_lexer": "ipython3",
   "version": "3.10.0"
  }
 },
 "nbformat": 4,
 "nbformat_minor": 5
}
